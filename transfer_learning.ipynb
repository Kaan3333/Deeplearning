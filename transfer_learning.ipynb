{
 "cells": [
  {
   "cell_type": "markdown",
   "id": "01675ac6",
   "metadata": {},
   "source": [
    "**Transfer learning**"
   ]
  },
  {
   "cell_type": "code",
   "execution_count": null,
   "id": "51fdf557",
   "metadata": {},
   "outputs": [],
   "source": [
    "import tensorflow as tf\n",
    "from tensorflow.keras.applications.mobilenet_v2 import MobileNetV2, preprocess_input\n",
    "from tensorflow.keras import layers, models\n",
    "from tensorflow.keras.utils import to_categorical\n",
    "from sklearn.metrics import classification_report, confusion_matrix\n",
    "import numpy as np\n",
    "import matplotlib.pyplot as plt\n",
    "import seaborn as sns"
   ]
  },
  {
   "cell_type": "code",
   "execution_count": null,
   "id": "a9b4995a",
   "metadata": {},
   "outputs": [],
   "source": [
    "# Load Fashion MNIST\n",
    "(X_train, y_train), (X_test, y_test) = tf.keras.datasets.fashion_mnist.load_data()\n",
    "class_names = ['T-shirt/top', 'Trouser', 'Pullover', 'Dress', 'Coat',\n",
    "               'Sandal', 'Shirt', 'Sneaker', 'Bag', 'Ankle boot']"
   ]
  },
  {
   "cell_type": "code",
   "execution_count": null,
   "id": "1d15402b",
   "metadata": {},
   "outputs": [],
   "source": [
    "X_train_resized = tf.image.resize(X_train, (96, 96))\n",
    "X_test_resized = tf.image.resize(X_test, (96, 96))\n",
    "\n",
    "# Preprocess for MobileNetV2\n",
    "# The images are already in RGB format, so no need for grayscale_to_rgb conversion.\n",
    "X_train_rgb = preprocess_input(X_train_resized.numpy())\n",
    "X_test_rgb = preprocess_input(X_test_resized.numpy())\n",
    "\n",
    "# One-hot encode labels\n",
    "y_train_cat = to_categorical(y_train, 10)\n",
    "y_test_cat = to_categorical(y_test, 10)"
   ]
  },
  {
   "cell_type": "code",
   "execution_count": null,
   "id": "cf29ce3e",
   "metadata": {},
   "outputs": [],
   "source": [
    "base_model = MobileNetV2(input_shape=(96, 96, 3), include_top=False, weights='imagenet')\n",
    "base_model.trainable = False  # Freeze base"
   ]
  },
  {
   "cell_type": "code",
   "execution_count": null,
   "id": "6835c84b",
   "metadata": {},
   "outputs": [],
   "source": [
    "model = models.Sequential([\n",
    "    base_model,\n",
    "    layers.GlobalAveragePooling2D(), # Pool spatial features into a vector\n",
    "    layers.Dense(128, activation='relu'), # Fully connected layer to learn new patterns\n",
    "    layers.Dense(10, activation='softmax') # Output layer with 10 classes (Fashion MNIST)\n",
    "])"
   ]
  },
  {
   "cell_type": "code",
   "execution_count": null,
   "id": "ceea4337",
   "metadata": {},
   "outputs": [],
   "source": [
    "model.compile(optimizer='adam', loss='categorical_crossentropy', metrics=['accuracy'])"
   ]
  },
  {
   "cell_type": "code",
   "execution_count": null,
   "id": "6b1c87e0",
   "metadata": {},
   "outputs": [],
   "source": [
    "history = model.fit(X_train_rgb, y_train_cat, validation_split=0.2, epochs=5, batch_size=64)"
   ]
  },
  {
   "cell_type": "code",
   "execution_count": null,
   "id": "b3423237",
   "metadata": {},
   "outputs": [],
   "source": [
    "est_loss, test_acc = model.evaluate(X_test_rgb, y_test_cat)\n",
    "print(f\"Test Accuracy: {test_acc:.4f}\")"
   ]
  },
  {
   "cell_type": "code",
   "execution_count": null,
   "id": "9a167e40",
   "metadata": {},
   "outputs": [],
   "source": [
    "# Predictions\n",
    "y_pred_probs = model.predict(X_test_rgb)\n",
    "y_pred = np.argmax(y_pred_probs, axis=1)"
   ]
  },
  {
   "cell_type": "code",
   "execution_count": null,
   "id": "6f3240fa",
   "metadata": {},
   "outputs": [],
   "source": [
    "from sklearn.metrics import classification_report\n",
    "\n",
    "report = classification_report(y_test, y_pred, target_names=class_names)\n",
    "print(report)"
   ]
  },
  {
   "cell_type": "code",
   "execution_count": null,
   "id": "1996ba61",
   "metadata": {},
   "outputs": [],
   "source": [
    "cm = confusion_matrix(y_test, y_pred)\n",
    "\n",
    "plt.figure(figsize=(10,8))\n",
    "sns.heatmap(cm, annot=True, fmt='d', cmap='Blues',\n",
    "            xticklabels=class_names,\n",
    "            yticklabels=class_names)\n",
    "plt.xlabel('Predicted Label')\n",
    "plt.ylabel('True Label')\n",
    "plt.title('Confusion Matrix')\n",
    "plt.xticks(rotation=45)\n",
    "plt.yticks(rotation=0)\n",
    "plt.show()\n"
   ]
  },
  {
   "cell_type": "code",
   "execution_count": null,
   "id": "b9fedd5a",
   "metadata": {},
   "outputs": [],
   "source": [
    "from tensorflow.keras import optimizers\n"
   ]
  },
  {
   "cell_type": "code",
   "execution_count": null,
   "id": "a824fda1",
   "metadata": {},
   "outputs": [],
   "source": [
    "base_model.trainable = True\n",
    "\n",
    "# Freeze all layers except the last N (e.g., last 20 layers)\n",
    "fine_tune_at = len(base_model.layers) - 20\n",
    "for layer in base_model.layers[:fine_tune_at]:\n",
    "    layer.trainable = False"
   ]
  },
  {
   "cell_type": "code",
   "execution_count": null,
   "id": "7a27a924",
   "metadata": {},
   "outputs": [],
   "source": [
    "model.compile(\n",
    "    optimizer=optimizers.Adam(learning_rate=1e-5),\n",
    "    loss='categorical_crossentropy',\n",
    "    metrics=['accuracy']\n",
    ")\n",
    "\n",
    "# Continue training (fine-tuning)\n",
    "fine_tune_epochs = 5\n",
    "total_epochs = 3 + fine_tune_epochs  # if trained earlier 3 epochs\n",
    "\n",
    "history_fine = model.fit(\n",
    "    X_train_rgb, y_train_cat,\n",
    "    validation_split=0.2,\n",
    "    epochs=total_epochs,\n",
    "    initial_epoch=3,\n",
    "    batch_size=64\n",
    ")\n",
    "\n"
   ]
  },
  {
   "cell_type": "code",
   "execution_count": null,
   "id": "dc382817",
   "metadata": {},
   "outputs": [],
   "source": [
    "# Evaluate\n",
    "test_loss, test_acc = model.evaluate(X_test_rgb, y_test_cat)\n",
    "print(f\"Test Accuracy after fine-tuning: {test_acc:.4f}\")"
   ]
  }
 ],
 "metadata": {
  "kernelspec": {
   "display_name": "base",
   "language": "python",
   "name": "python3"
  },
  "language_info": {
   "name": "python",
   "version": "3.13.5"
  }
 },
 "nbformat": 4,
 "nbformat_minor": 5
}
